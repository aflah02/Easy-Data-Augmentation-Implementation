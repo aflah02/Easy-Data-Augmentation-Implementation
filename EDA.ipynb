{
  "nbformat": 4,
  "nbformat_minor": 0,
  "metadata": {
    "colab": {
      "name": "EDA.ipynb",
      "provenance": [],
      "collapsed_sections": [],
      "authorship_tag": "ABX9TyNuH3U+H+DsXH+8fccC/uk9",
      "include_colab_link": true
    },
    "kernelspec": {
      "name": "python3",
      "display_name": "Python 3"
    },
    "language_info": {
      "name": "python"
    }
  },
  "cells": [
    {
      "cell_type": "markdown",
      "metadata": {
        "id": "view-in-github",
        "colab_type": "text"
      },
      "source": [
        "<a href=\"https://colab.research.google.com/github/aflah02/Easy-Data-Augmentation-Implementation/blob/main/EDA.ipynb\" target=\"_parent\"><img src=\"https://colab.research.google.com/assets/colab-badge.svg\" alt=\"Open In Colab\"/></a>"
      ]
    },
    {
      "cell_type": "code",
      "source": [
        "import nltk\n",
        "from nltk.corpus import wordnet\n",
        "from nltk.corpus import stopwords\n",
        "nltk.download('stopwords')\n",
        "nltk.download('wordnet')\n",
        "nltk.download('omw-1.4')\n",
        "import random\n",
        "import numpy as np\n",
        "import matplotlib.pyplot as plt\n",
        "import pandas as pd\n",
        "import tensorflow as tf\n",
        "import tensorflow_datasets as tfds\n",
        "from tensorflow import keras\n",
        "from tensorflow.keras import layers\n",
        "from tensorflow.keras.callbacks import EarlyStopping\n",
        "import pickle\n",
        "\n",
        "def plot_graphs(history, metric):\n",
        "  plt.plot(history.history[metric])\n",
        "  plt.plot(history.history['val_'+metric], '')\n",
        "  plt.xlabel(\"Epochs\")\n",
        "  plt.ylabel(metric)\n",
        "  plt.legend([metric, 'val_'+metric])"
      ],
      "metadata": {
        "colab": {
          "base_uri": "https://localhost:8080/"
        },
        "id": "N-LuYDsQtSDk",
        "outputId": "372c41d9-7714-49d8-d8fb-d11710531f89"
      },
      "execution_count": 1,
      "outputs": [
        {
          "output_type": "stream",
          "name": "stdout",
          "text": [
            "[nltk_data] Downloading package stopwords to /root/nltk_data...\n",
            "[nltk_data]   Package stopwords is already up-to-date!\n",
            "[nltk_data] Downloading package wordnet to /root/nltk_data...\n",
            "[nltk_data]   Package wordnet is already up-to-date!\n",
            "[nltk_data] Downloading package omw-1.4 to /root/nltk_data...\n",
            "[nltk_data]   Package omw-1.4 is already up-to-date!\n"
          ]
        }
      ]
    },
    {
      "cell_type": "code",
      "execution_count": 2,
      "metadata": {
        "id": "r3iSEz0crpcJ"
      },
      "outputs": [],
      "source": [
        "def eda_SR(originalSentence, n):\n",
        "  \"\"\"\n",
        "  Paper Methodology -> Randomly choose n words from the sentence that are not stop words. \n",
        "                       Replace each of these words with one of its synonyms chosen at random.\n",
        "  originalSentence -> The sentence on which EDA is to be applied\n",
        "  n -> The number of words to be chosen for random synonym replacement\n",
        "  \"\"\"\n",
        "  stops = set(stopwords.words('english'))\n",
        "  splitSentence = list(originalSentence.split(\" \"))\n",
        "  splitSentenceCopy = splitSentence.copy()\n",
        "  # Since We Make Changes to The Original Sentence List The Indexes Change and Hence an initial copy proves useful to get values\n",
        "  ls_nonStopWordIndexes = []\n",
        "  for i in range(len(splitSentence)):\n",
        "    if splitSentence[i].lower() not in stops:\n",
        "      ls_nonStopWordIndexes.append(i)\n",
        "  if (n > len(ls_nonStopWordIndexes)):\n",
        "    raise Exception(\"The number of replacements exceeds the number of non stop word words\")\n",
        "  for i in range(n):\n",
        "    indexChosen = random.choice(ls_nonStopWordIndexes)\n",
        "    ls_nonStopWordIndexes.remove(indexChosen)\n",
        "    synonyms = []\n",
        "    originalWord = splitSentenceCopy[indexChosen]\n",
        "    for synset in wordnet.synsets(originalWord):\n",
        "      for lemma in synset.lemmas():\n",
        "        if lemma.name() != originalWord:\n",
        "          synonyms.append(lemma.name())\n",
        "    if (synonyms == []):\n",
        "      continue\n",
        "    splitSentence[indexChosen] = random.choice(synonyms).replace('_', ' ')\n",
        "  return \" \".join(splitSentence)"
      ]
    },
    {
      "cell_type": "code",
      "source": [
        "print(eda_SR(\"I love to play football\", 2))"
      ],
      "metadata": {
        "colab": {
          "base_uri": "https://localhost:8080/"
        },
        "id": "9S1DukZer1Am",
        "outputId": "5511c288-7177-4a04-ff39-8b6f77bc94c2"
      },
      "execution_count": 3,
      "outputs": [
        {
          "output_type": "stream",
          "name": "stdout",
          "text": [
            "I sleep together to work football\n"
          ]
        }
      ]
    },
    {
      "cell_type": "code",
      "source": [
        "def eda_RI(originalSentence, n):\n",
        "  \"\"\"\n",
        "  Paper Methodology -> Find a random synonym of a random word in the sentence that is not a stop word. \n",
        "                       Insert that synonym into a random position in the sentence. Do this n times\n",
        "  originalSentence -> The sentence on which EDA is to be applied\n",
        "  n -> The number of times the process has to be repeated\n",
        "  \"\"\"\n",
        "  stops = set(stopwords.words('english'))\n",
        "  splitSentence = list(originalSentence.split(\" \"))\n",
        "  splitSentenceCopy = splitSentence.copy() \n",
        "  # Since We Make Changes to The Original Sentence List The Indexes Change and Hence an initial copy proves useful to get values\n",
        "  ls_nonStopWordIndexes = []\n",
        "  for i in range(len(splitSentence)):\n",
        "    if splitSentence[i].lower() not in stops:\n",
        "      ls_nonStopWordIndexes.append(i)\n",
        "  if (n > len(ls_nonStopWordIndexes)):\n",
        "    raise Exception(\"The number of replacements exceeds the number of non stop word words\")\n",
        "  WordCount = len(splitSentence)\n",
        "  for i in range(n):\n",
        "    indexChosen = random.choice(ls_nonStopWordIndexes)\n",
        "    ls_nonStopWordIndexes.remove(indexChosen)\n",
        "    synonyms = []\n",
        "    originalWord = splitSentenceCopy[indexChosen]\n",
        "    for synset in wordnet.synsets(originalWord):\n",
        "      for lemma in synset.lemmas():\n",
        "        if lemma.name() != originalWord:\n",
        "          synonyms.append(lemma.name())\n",
        "    if (synonyms == []):\n",
        "      continue\n",
        "    splitSentence.insert(random.randint(0,WordCount-1), random.choice(synonyms).replace('_', ' '))\n",
        "  return \" \".join(splitSentence)"
      ],
      "metadata": {
        "id": "ki7HhW0LuK32"
      },
      "execution_count": 4,
      "outputs": []
    },
    {
      "cell_type": "code",
      "source": [
        "print(eda_RI(\"I love to play football\", 2))"
      ],
      "metadata": {
        "colab": {
          "base_uri": "https://localhost:8080/"
        },
        "id": "JqWbchb_uS6-",
        "outputId": "b79b6ca0-91da-4095-f8b7-9be84dc636b4"
      },
      "execution_count": 5,
      "outputs": [
        {
          "output_type": "stream",
          "name": "stdout",
          "text": [
            "I football game love encounter to play football\n"
          ]
        }
      ]
    },
    {
      "cell_type": "code",
      "source": [
        "def eda_RS(originalSentence, n):\n",
        "  \"\"\"\n",
        "  Paper Methodology -> Find a random synonym of a random word in the sentence that is not a stop word. \n",
        "                       Insert that synonym into a random position in the sentence. Do this n times\n",
        "  originalSentence -> The sentence on which EDA is to be applied\n",
        "  n -> The number of times the process has to be repeated\n",
        "  \"\"\"\n",
        "  splitSentence = list(originalSentence.split(\" \"))\n",
        "  WordCount = len(splitSentence)\n",
        "  for i in range(n):\n",
        "    firstIndex = random.randint(0,WordCount-1)\n",
        "    secondIndex = random.randint(0,WordCount-1)\n",
        "    while (secondIndex == firstIndex and WordCount != 1):\n",
        "      secondIndex = random.randint(0,WordCount-1)\n",
        "    splitSentence[firstIndex], splitSentence[secondIndex] = splitSentence[secondIndex], splitSentence[firstIndex]\n",
        "  return \" \".join(splitSentence)"
      ],
      "metadata": {
        "id": "vNxMDuWEyGWw"
      },
      "execution_count": 6,
      "outputs": []
    },
    {
      "cell_type": "code",
      "source": [
        "print(eda_RS(\"I love to play football\", 2))"
      ],
      "metadata": {
        "colab": {
          "base_uri": "https://localhost:8080/"
        },
        "id": "ZSJVxXjK1XLD",
        "outputId": "78d22c79-1e28-48ca-e729-15edce835728"
      },
      "execution_count": 7,
      "outputs": [
        {
          "output_type": "stream",
          "name": "stdout",
          "text": [
            "to play I love football\n"
          ]
        }
      ]
    },
    {
      "cell_type": "code",
      "source": [
        "def eda_RD(originalSentence, p):\n",
        "  \"\"\"\n",
        "  Paper Methodology -> Randomly remove each word in the sentence with probability p.\n",
        "  originalSentence -> The sentence on which EDA is to be applied\n",
        "  p -> Probability of a Word Being Removed\n",
        "  \"\"\"\n",
        "  og = originalSentence\n",
        "  if (p == 1):\n",
        "      raise Exception(\"Always an Empty String Will Be Returned\") \n",
        "  if (p > 1 or p < 0):\n",
        "    raise Exception(\"Improper Probability Value\")\n",
        "  splitSentence = list(originalSentence.split(\" \"))\n",
        "  lsIndexesRemoved = []\n",
        "  WordCount = len(splitSentence)\n",
        "  for i in range(WordCount):\n",
        "    randomDraw = random.random()\n",
        "    if randomDraw <= p:\n",
        "      lsIndexesRemoved.append(i)\n",
        "  lsRetainingWords = []\n",
        "  for i in range(len(splitSentence)):\n",
        "    if i not in lsIndexesRemoved:\n",
        "      lsRetainingWords.append(splitSentence[i])\n",
        "  if (lsRetainingWords == []):\n",
        "    return og\n",
        "  return \" \".join(lsRetainingWords)"
      ],
      "metadata": {
        "id": "J7Ftz9dw1aU7"
      },
      "execution_count": 8,
      "outputs": []
    },
    {
      "cell_type": "code",
      "source": [
        "print(eda_RD(\"I love to play football\", 0.3))"
      ],
      "metadata": {
        "colab": {
          "base_uri": "https://localhost:8080/"
        },
        "id": "-3BexJBe3GiU",
        "outputId": "4783bd7e-35b9-4f27-c71d-b4a990a64de3"
      },
      "execution_count": 9,
      "outputs": [
        {
          "output_type": "stream",
          "name": "stdout",
          "text": [
            "love to football\n"
          ]
        }
      ]
    },
    {
      "cell_type": "markdown",
      "source": [
        "### Building Dataset"
      ],
      "metadata": {
        "id": "WJ7lKLxQX1Y7"
      }
    },
    {
      "cell_type": "code",
      "source": [
        "!wget -q https://raw.githubusercontent.com/clairett/pytorch-sentiment-classification/master/data/SST2/train.tsv\n",
        "!wget -q https://raw.githubusercontent.com/clairett/pytorch-sentiment-classification/master/data/SST2/test.tsv\n",
        "!wget -q https://raw.githubusercontent.com/clairett/pytorch-sentiment-classification/master/data/SST2/dev.tsv"
      ],
      "metadata": {
        "id": "CxBtup4GaBfU"
      },
      "execution_count": 10,
      "outputs": []
    },
    {
      "cell_type": "code",
      "source": [
        "def buildTrainTestDatasets(doAug, AugTechs, alpha, NumberOfTrainingSamplesTouse, n_aug):\n",
        "  df_train = pd.read_csv('train.tsv', delimiter = '\\t', names = ['Sentence', 'Label'])\n",
        "  df_dev = pd.read_csv('dev.tsv', delimiter = '\\t', names = ['Sentence', 'Label'])\n",
        "  df_test = pd.read_csv('test.tsv', delimiter = '\\t', names = ['Sentence', 'Label'])\n",
        "\n",
        "  df_train = pd.concat([df_train, df_dev])\n",
        "  df_train = df_train.reset_index(drop=True)\n",
        "  df_train = df_train.loc[:, [\"Label\", \"Sentence\"]]\n",
        "  if (NumberOfTrainingSamplesTouse > len(df_train)):\n",
        "    raise Exception(\"More Samples Asked For Than Present\")\n",
        "\n",
        "  df_train = df_train.iloc[:NumberOfTrainingSamplesTouse]\n",
        "\n",
        "  if (doAug):\n",
        "    if (AugTechs == None):\n",
        "      AugTechs = ['SR', 'RI', 'RD', 'RS']\n",
        "    ls_train_labels = df_train['Label'].to_list()\n",
        "    ls_train_sentences = df_train['Sentence'].to_list()\n",
        "    count = len(ls_train_sentences)\n",
        "    for i in range(count):\n",
        "      for iter in range(n_aug):\n",
        "        ls_train_labels.append(ls_train_labels[i])\n",
        "        techniqueChosen = random.choice(AugTechs)\n",
        "        if (techniqueChosen == 'SR'):\n",
        "          ls_train_sentences.append(eda_SR(ls_train_sentences[i], int(len(ls_train_sentences[i])*alpha)))\n",
        "        elif (techniqueChosen == 'RI'):\n",
        "          ls_train_sentences.append(eda_RI(ls_train_sentences[i], int(len(ls_train_sentences[i])*alpha)))\n",
        "        elif (techniqueChosen == 'RS'):\n",
        "          ls_train_sentences.append(eda_RS(ls_train_sentences[i], int(len(ls_train_sentences[i])*alpha)))\n",
        "        elif (techniqueChosen == 'RD'):\n",
        "          ls_train_sentences.append(eda_RD(ls_train_sentences[i], alpha))\n",
        "    df_train = pd.DataFrame(\n",
        "    {'Label': ls_train_labels,\n",
        "     'Sentence': ls_train_sentences,\n",
        "    })\n",
        "  target_train = df_train.pop('Label')\n",
        "  target_test = df_test.pop('Label')\n",
        "  feature_names = ['Sentence']\n",
        "  train_features = df_train[feature_names]\n",
        "  test_features = df_test[feature_names]\n",
        "  train_dataset = tf.convert_to_tensor(train_features)\n",
        "  test_dataset = tf.convert_to_tensor(test_features)\n",
        "  return train_dataset, target_train, test_dataset, target_test"
      ],
      "metadata": {
        "id": "eOqxgdLi9vNU"
      },
      "execution_count": 11,
      "outputs": []
    },
    {
      "cell_type": "code",
      "source": [
        "train_aug_dataset, target_aug_train, test_aug_dataset, target_aug_test = buildTrainTestDatasets(True, None, 0.05, 500, 16)\n",
        "train_aug_dataset = tf.squeeze(train_aug_dataset)\n",
        "test_aug_dataset = tf.squeeze(test_aug_dataset)\n",
        "target_aug_train = tf.squeeze(target_aug_train)\n",
        "target_aug_test = tf.squeeze(target_aug_test)"
      ],
      "metadata": {
        "id": "Dt-Dp6kQ-r7_"
      },
      "execution_count": 12,
      "outputs": []
    },
    {
      "cell_type": "code",
      "source": [
        "train_nonaug_dataset, target_nonaug_train, test_nonaug_dataset, target_nonaug_test = buildTrainTestDatasets(True, None, 0.05, 500, 16)\n",
        "train_nonaug_dataset = tf.squeeze(train_nonaug_dataset)\n",
        "test_nonaug_dataset = tf.squeeze(test_nonaug_dataset)\n",
        "target_nonaug_train = tf.squeeze(target_nonaug_train)\n",
        "target_nonaug_test = tf.squeeze(target_nonaug_test)"
      ],
      "metadata": {
        "id": "aJaj2By5R9yc"
      },
      "execution_count": 13,
      "outputs": []
    },
    {
      "cell_type": "code",
      "source": [
        "train_aug = tf.data.Dataset.from_tensor_slices((train_aug_dataset, target_aug_train), )\n",
        "train_non_aug = tf.data.Dataset.from_tensor_slices((train_nonaug_dataset, target_nonaug_train))\n",
        "test_aug = tf.data.Dataset.from_tensor_slices((test_aug_dataset, target_aug_test))\n",
        "test_non_aug = tf.data.Dataset.from_tensor_slices((test_nonaug_dataset, target_nonaug_test))"
      ],
      "metadata": {
        "id": "HpcuFauoRonn"
      },
      "execution_count": 14,
      "outputs": []
    },
    {
      "cell_type": "code",
      "source": [
        "for example, label in train_aug.take(1):\n",
        "  print('text: ', example.numpy())\n",
        "  print('label: ', label.numpy())"
      ],
      "metadata": {
        "colab": {
          "base_uri": "https://localhost:8080/"
        },
        "id": "9tt4_o6nDjKg",
        "outputId": "620b6d7a-25d0-457b-aafe-5c8195b717ce"
      },
      "execution_count": 15,
      "outputs": [
        {
          "output_type": "stream",
          "name": "stdout",
          "text": [
            "text:  b'a stirring , funny and finally transporting re imagining of beauty and the beast and 1930s horror films'\n",
            "label:  1\n"
          ]
        }
      ]
    },
    {
      "cell_type": "code",
      "source": [
        "for example, label in train_aug.take(10):\n",
        "  print('text: ', example.numpy())\n",
        "  print('label: ', label.numpy())"
      ],
      "metadata": {
        "colab": {
          "base_uri": "https://localhost:8080/"
        },
        "id": "rhha0eFCJSMK",
        "outputId": "118dd28e-99f0-4413-9828-8501a7a33370"
      },
      "execution_count": 16,
      "outputs": [
        {
          "output_type": "stream",
          "name": "stdout",
          "text": [
            "text:  b'a stirring , funny and finally transporting re imagining of beauty and the beast and 1930s horror films'\n",
            "label:  1\n",
            "text:  b'apparently reassembled from the cutting room floor of any given daytime soap'\n",
            "label:  0\n",
            "text:  b\"they presume their audience wo n't sit still for a sociology lesson , however entertainingly presented , so they trot out the conventional science fiction elements of bug eyed monsters and futuristic women in skimpy clothes\"\n",
            "label:  0\n",
            "text:  b'this is a visually stunning rumination on love , memory , history and the war between art and commerce'\n",
            "label:  1\n",
            "text:  b\"jonathan parker 's bartleby should have been the be all end all of the modern office anomie films\"\n",
            "label:  1\n",
            "text:  b'campanella gets the tone just right funny in the middle of sad in the middle of hopeful'\n",
            "label:  1\n",
            "text:  b'a fan film that for the uninitiated plays better on video with the sound turned down'\n",
            "label:  0\n",
            "text:  b'b art and berling are both superb , while huppert is magnificent'\n",
            "label:  1\n",
            "text:  b'a little less extreme than in the past , with longer exposition sequences between them , and with fewer gags to break the tedium'\n",
            "label:  0\n",
            "text:  b'the film is strictly routine'\n",
            "label:  0\n"
          ]
        }
      ]
    },
    {
      "cell_type": "code",
      "source": [
        "train_aug, train_non_aug, test_aug, test_non_aug"
      ],
      "metadata": {
        "colab": {
          "base_uri": "https://localhost:8080/"
        },
        "id": "3wkN7_fUIkgo",
        "outputId": "38addab6-7cf4-4d17-d9fb-657a83de455e"
      },
      "execution_count": 17,
      "outputs": [
        {
          "output_type": "execute_result",
          "data": {
            "text/plain": [
              "(<TensorSliceDataset element_spec=(TensorSpec(shape=(), dtype=tf.string, name=None), TensorSpec(shape=(), dtype=tf.int64, name=None))>,\n",
              " <TensorSliceDataset element_spec=(TensorSpec(shape=(), dtype=tf.string, name=None), TensorSpec(shape=(), dtype=tf.int64, name=None))>,\n",
              " <TensorSliceDataset element_spec=(TensorSpec(shape=(), dtype=tf.string, name=None), TensorSpec(shape=(), dtype=tf.int64, name=None))>,\n",
              " <TensorSliceDataset element_spec=(TensorSpec(shape=(), dtype=tf.string, name=None), TensorSpec(shape=(), dtype=tf.int64, name=None))>)"
            ]
          },
          "metadata": {},
          "execution_count": 17
        }
      ]
    },
    {
      "cell_type": "code",
      "source": [
        "for example, label in train_aug.take(1):\n",
        "  print('text: ', example.numpy())\n",
        "  print('label: ', label.numpy())"
      ],
      "metadata": {
        "colab": {
          "base_uri": "https://localhost:8080/"
        },
        "id": "jBHyN24V9GoO",
        "outputId": "9be40197-b565-4e19-ee55-34ff63d43a07"
      },
      "execution_count": 18,
      "outputs": [
        {
          "output_type": "stream",
          "name": "stdout",
          "text": [
            "text:  b'a stirring , funny and finally transporting re imagining of beauty and the beast and 1930s horror films'\n",
            "label:  1\n"
          ]
        }
      ]
    },
    {
      "cell_type": "code",
      "source": [
        "BUFFER_SIZE = 10000\n",
        "BATCH_SIZE = 64"
      ],
      "metadata": {
        "id": "C91enohDBOXj"
      },
      "execution_count": 19,
      "outputs": []
    },
    {
      "cell_type": "code",
      "source": [
        "train_aug = train_aug.shuffle(BUFFER_SIZE).batch(BATCH_SIZE).prefetch(tf.data.AUTOTUNE)\n",
        "test_aug = test_aug.batch(BATCH_SIZE).prefetch(tf.data.AUTOTUNE)\n",
        "train_non_aug = train_non_aug.shuffle(BUFFER_SIZE).batch(BATCH_SIZE).prefetch(tf.data.AUTOTUNE)\n",
        "test_non_aug = test_non_aug.batch(BATCH_SIZE).prefetch(tf.data.AUTOTUNE)"
      ],
      "metadata": {
        "id": "9P0lYpBKBO8z"
      },
      "execution_count": 20,
      "outputs": []
    },
    {
      "cell_type": "code",
      "source": [
        "train_aug.element_spec"
      ],
      "metadata": {
        "colab": {
          "base_uri": "https://localhost:8080/"
        },
        "id": "8H7SIij7Bb7V",
        "outputId": "f34c9c74-2660-4ce8-89d1-daad978c9ec4"
      },
      "execution_count": 21,
      "outputs": [
        {
          "output_type": "execute_result",
          "data": {
            "text/plain": [
              "(TensorSpec(shape=(None,), dtype=tf.string, name=None),\n",
              " TensorSpec(shape=(None,), dtype=tf.int64, name=None))"
            ]
          },
          "metadata": {},
          "execution_count": 21
        }
      ]
    },
    {
      "cell_type": "code",
      "source": [
        "for example, label in train_aug.take(1):\n",
        "  print('texts: ', example.numpy()[:3])\n",
        "  print()\n",
        "  print('labels: ', label.numpy()[:3])"
      ],
      "metadata": {
        "colab": {
          "base_uri": "https://localhost:8080/"
        },
        "id": "38xXXT1gBe1M",
        "outputId": "c1d0d748-a0e6-4162-bfc4-66b37e8b42d6"
      },
      "execution_count": 22,
      "outputs": [
        {
          "output_type": "stream",
          "name": "stdout",
          "text": [
            "texts:  [b'it is any uncompromising the it be nonjudgmental , and makes lonely that a prostitute can clients as as and needy as as of clear is'\n",
            " b'the joke are sophomoric , stamp are sprinkled everyplace and the acting reach from bad to bodacious'\n",
            " b\"mr scorsese 's bravery and integrity in advancing this vision can hardly underestimated\"]\n",
            "\n",
            "labels:  [1 0 1]\n"
          ]
        }
      ]
    },
    {
      "cell_type": "markdown",
      "source": [
        "## RNN Model\n",
        "\n",
        "Paper Uses - \n",
        "The architecture used in this paper is as follows: input layer, bi-directional hidden layer with 64 LSTM cells, dropout layer with p=0.5, bi-directional layer of 32 LSTM cells, dropout layer with p=0.5, dense layer of 20 hidden units with ReLU activation, softmax output layer. We initialize this network with random normal weights and train against the categorical crossentropy loss function with the adam optimizer. We use early stopping with a patience of 3 epochs.\n",
        "\n",
        "Reference for Encoder and some Helper Functions: [Tensorflow Text Classification by RNN Tutorial](https://www.tensorflow.org/text/tutorials/text_classification_rnn)\n",
        "\n"
      ],
      "metadata": {
        "id": "JPXHX5UV78ui"
      }
    },
    {
      "cell_type": "code",
      "source": [
        "VOCAB_SIZE = 5000\n",
        "encoder_aug = tf.keras.layers.TextVectorization(\n",
        "    max_tokens=VOCAB_SIZE)\n",
        "encoder_aug.adapt(train_aug.map(lambda text, label: text))\n",
        "\n",
        "vocab_aug = np.array(encoder_aug.get_vocabulary())\n",
        "\n",
        "VOCAB_SIZE = 5000\n",
        "encoder_nonaug = tf.keras.layers.TextVectorization(\n",
        "    max_tokens=VOCAB_SIZE)\n",
        "encoder_nonaug.adapt(train_non_aug.map(lambda text, label: text))\n",
        "\n",
        "vocab_nonaug = np.array(encoder_nonaug.get_vocabulary())"
      ],
      "metadata": {
        "id": "Td-Iboc0BNIU"
      },
      "execution_count": 23,
      "outputs": []
    },
    {
      "cell_type": "code",
      "source": [
        "encoded_example = encoder_aug(example)[:3].numpy()\n",
        "encoded_example\n",
        "\n",
        "for n in range(3):\n",
        "  print(\"Original: \", example[n].numpy())\n",
        "  print(\"Round-trip: \", \" \".join(vocab_aug[encoded_example[n]]))\n",
        "  print()"
      ],
      "metadata": {
        "colab": {
          "base_uri": "https://localhost:8080/"
        },
        "id": "pOTl3S9DljnX",
        "outputId": "aa9d0c93-49fe-4210-ad3a-6ad5fd4a8d46"
      },
      "execution_count": 24,
      "outputs": [
        {
          "output_type": "stream",
          "name": "stdout",
          "text": [
            "Original:  b'it is any uncompromising the it be nonjudgmental , and makes lonely that a prostitute can clients as as and needy as as of clear is'\n",
            "Round-trip:  it is any uncompromising the it be nonjudgmental and makes lonely that a prostitute can clients as as and needy as as of clear is            \n",
            "\n",
            "Original:  b'the joke are sophomoric , stamp are sprinkled everyplace and the acting reach from bad to bodacious'\n",
            "Round-trip:  the joke are sophomoric stamp are sprinkled everyplace and the acting reach from bad to bodacious                     \n",
            "\n",
            "Original:  b\"mr scorsese 's bravery and integrity in advancing this vision can hardly underestimated\"\n",
            "Round-trip:  mr scorsese s bravery and integrity in advancing this vision can hardly underestimated                        \n",
            "\n"
          ]
        }
      ]
    },
    {
      "cell_type": "code",
      "source": [
        "model_aug = tf.keras.Sequential([\n",
        "    encoder_aug,\n",
        "    tf.keras.layers.Embedding(len(encoder_aug.get_vocabulary()), 64, mask_zero=True),\n",
        "    tf.keras.layers.Bidirectional(tf.keras.layers.LSTM(64,  return_sequences=True)),\n",
        "    tf.keras.layers.Dropout(0.5),\n",
        "    tf.keras.layers.Bidirectional(tf.keras.layers.LSTM(32, return_sequences=False)),\n",
        "    tf.keras.layers.Dropout(0.5),\n",
        "    tf.keras.layers.Dense(20, activation='relu'),\n",
        "    tf.keras.layers.Dense(1, kernel_initializer='normal', activation='sigmoid')\n",
        "])\n",
        "model_aug.compile(loss=tf.keras.losses.BinaryCrossentropy(),\n",
        "              optimizer=tf.keras.optimizers.Adam(),\n",
        "              metrics=['accuracy'])\n",
        "\n",
        "model_nonaug = tf.keras.Sequential([\n",
        "    encoder_nonaug,\n",
        "    tf.keras.layers.Embedding(len(encoder_nonaug.get_vocabulary()), 64, mask_zero=True),\n",
        "    tf.keras.layers.Bidirectional(tf.keras.layers.LSTM(64,  return_sequences=True)),\n",
        "    tf.keras.layers.Dropout(0.5),\n",
        "    tf.keras.layers.Bidirectional(tf.keras.layers.LSTM(32, return_sequences=False)),\n",
        "    tf.keras.layers.Dropout(0.5),\n",
        "    tf.keras.layers.Dense(20, activation='relu'),\n",
        "    tf.keras.layers.Dense(1, kernel_initializer='normal', activation='sigmoid')\n",
        "])\n",
        "model_nonaug.compile(loss=tf.keras.losses.BinaryCrossentropy(),\n",
        "              optimizer=tf.keras.optimizers.Adam(),\n",
        "              metrics=['accuracy'])"
      ],
      "metadata": {
        "id": "bx_aazpwWe1f"
      },
      "execution_count": 34,
      "outputs": []
    },
    {
      "cell_type": "code",
      "source": [
        "callbacks = [EarlyStopping(monitor='val_loss', patience=5)]\n",
        "\n",
        "history_aug = model_aug.fit(\t\n",
        "      train_aug,\n",
        "      epochs=50, \n",
        "      callbacks=callbacks,\n",
        "      validation_data=test_aug,\n",
        "      validation_steps=5\n",
        ")\n",
        "\n",
        "history_non_aug = model_nonaug.fit(\t\n",
        "      train_non_aug,\n",
        "      epochs=50, \n",
        "      callbacks=callbacks,\n",
        "      validation_data=test_non_aug,\n",
        "      validation_steps=5\n",
        ")"
      ],
      "metadata": {
        "id": "Bn39t9aqrp6o",
        "colab": {
          "base_uri": "https://localhost:8080/"
        },
        "outputId": "c93e7d51-0189-4dd0-faa5-d0df2e5203b8"
      },
      "execution_count": 37,
      "outputs": [
        {
          "output_type": "stream",
          "name": "stdout",
          "text": [
            "Epoch 1/50\n",
            "133/133 [==============================] - 22s 167ms/step - loss: 0.0081 - accuracy: 0.9981 - val_loss: 1.7266 - val_accuracy: 0.6656\n",
            "Epoch 2/50\n",
            "133/133 [==============================] - 21s 157ms/step - loss: 0.0046 - accuracy: 0.9992 - val_loss: 1.9349 - val_accuracy: 0.6625\n",
            "Epoch 3/50\n",
            "133/133 [==============================] - 21s 156ms/step - loss: 0.0026 - accuracy: 0.9996 - val_loss: 1.8317 - val_accuracy: 0.6844\n",
            "Epoch 4/50\n",
            "133/133 [==============================] - 21s 156ms/step - loss: 0.0012 - accuracy: 0.9999 - val_loss: 1.9479 - val_accuracy: 0.6844\n",
            "Epoch 5/50\n",
            "133/133 [==============================] - 21s 156ms/step - loss: 0.0012 - accuracy: 0.9999 - val_loss: 2.0215 - val_accuracy: 0.6844\n",
            "Epoch 6/50\n",
            "133/133 [==============================] - 21s 156ms/step - loss: 9.6316e-04 - accuracy: 0.9999 - val_loss: 2.1024 - val_accuracy: 0.6812\n",
            "Epoch 1/50\n",
            "133/133 [==============================] - 22s 168ms/step - loss: 8.5573e-04 - accuracy: 1.0000 - val_loss: 2.3758 - val_accuracy: 0.6406\n",
            "Epoch 2/50\n",
            "133/133 [==============================] - 21s 155ms/step - loss: 5.2268e-04 - accuracy: 1.0000 - val_loss: 2.5259 - val_accuracy: 0.6406\n",
            "Epoch 3/50\n",
            "133/133 [==============================] - 21s 156ms/step - loss: 4.0296e-04 - accuracy: 1.0000 - val_loss: 2.6436 - val_accuracy: 0.6406\n",
            "Epoch 4/50\n",
            "133/133 [==============================] - 21s 156ms/step - loss: 2.7636e-04 - accuracy: 1.0000 - val_loss: 2.7605 - val_accuracy: 0.6375\n",
            "Epoch 5/50\n",
            "133/133 [==============================] - 21s 155ms/step - loss: 2.2875e-04 - accuracy: 1.0000 - val_loss: 2.8280 - val_accuracy: 0.6406\n",
            "Epoch 6/50\n",
            "133/133 [==============================] - 21s 158ms/step - loss: 1.8061e-04 - accuracy: 1.0000 - val_loss: 2.9115 - val_accuracy: 0.6406\n"
          ]
        }
      ]
    },
    {
      "cell_type": "code",
      "source": [
        "test_aug_loss, test_aug_acc = model_aug.evaluate(test_aug)\n",
        "\n",
        "print('Test Augmented Loss:', test_aug_loss)\n",
        "print('Test Augmented Accuracy:', test_aug_acc)\n",
        "\n",
        "test_non_aug_loss, test_non_aug_acc = model_nonaug.evaluate(test_non_aug)\n",
        "\n",
        "print('Test Non Augmented Loss:', test_non_aug_loss)\n",
        "print('Test Non Augmented Accuracy:', test_non_aug_acc)"
      ],
      "metadata": {
        "id": "qjBusEOGuHK3",
        "colab": {
          "base_uri": "https://localhost:8080/"
        },
        "outputId": "6bfb10bb-0e5d-4c6c-abec-cfd05f2b8704"
      },
      "execution_count": 39,
      "outputs": [
        {
          "output_type": "stream",
          "name": "stdout",
          "text": [
            "29/29 [==============================] - 1s 36ms/step - loss: 2.2751 - accuracy: 0.6584\n",
            "Test Augmented Loss: 2.2750773429870605\n",
            "Test Augmented Accuracy: 0.6584294438362122\n",
            "29/29 [==============================] - 1s 36ms/step - loss: 3.0363 - accuracy: 0.6381\n",
            "Test Non Augmented Loss: 3.036289691925049\n",
            "Test Non Augmented Accuracy: 0.6381109356880188\n"
          ]
        }
      ]
    },
    {
      "cell_type": "code",
      "source": [
        "## Augmented Data Training\n",
        "plt.figure(figsize=(16, 8))\n",
        "plt.subplot(1, 2, 1)\n",
        "plot_graphs(history_aug, 'accuracy')\n",
        "plt.ylim(None, 1)\n",
        "plt.subplot(1, 2, 2)\n",
        "plot_graphs(history_aug, 'loss')\n",
        "plt.ylim(0, None)"
      ],
      "metadata": {
        "colab": {
          "base_uri": "https://localhost:8080/",
          "height": 518
        },
        "id": "MrDDpT2NF7UJ",
        "outputId": "715dc98c-2985-4e24-e155-2f5454bf2a96"
      },
      "execution_count": 40,
      "outputs": [
        {
          "output_type": "execute_result",
          "data": {
            "text/plain": [
              "(0.0, 2.2074208404374076)"
            ]
          },
          "metadata": {},
          "execution_count": 40
        },
        {
          "output_type": "display_data",
          "data": {
            "text/plain": [
              "<Figure size 1152x576 with 2 Axes>"
            ],
            "image/png": "[encoded data removed]"
          },
          "metadata": {
            "needs_background": "light"
          }
        }
      ]
    },
    {
      "cell_type": "code",
      "source": [
        "## Non Augmented Data Training\n",
        "plt.figure(figsize=(16, 8))\n",
        "plt.title(\"Non Augmented Data Training\")\n",
        "plt.subplot(1, 2, 1)\n",
        "plot_graphs(history_non_aug, 'accuracy')\n",
        "plt.ylim(None, 1)\n",
        "plt.subplot(1, 2, 2)\n",
        "plot_graphs(history_non_aug, 'loss')\n",
        "plt.ylim(0, None)"
      ],
      "metadata": {
        "colab": {
          "base_uri": "https://localhost:8080/",
          "height": 518
        },
        "id": "sN_pYcqLY4fu",
        "outputId": "9d6dca61-9ec9-4097-b841-f83c2b5dcb26"
      },
      "execution_count": 41,
      "outputs": [
        {
          "output_type": "execute_result",
          "data": {
            "text/plain": [
              "(0.0, 3.0570999916155417)"
            ]
          },
          "metadata": {},
          "execution_count": 41
        },
        {
          "output_type": "display_data",
          "data": {
            "text/plain": [
              "<Figure size 1152x576 with 2 Axes>"
            ],
            "image/png": "[encoded data removed]"
          },
          "metadata": {
            "needs_background": "light"
          }
        }
      ]
    },
    {
      "cell_type": "code",
      "source": [
        ""
      ],
      "metadata": {
        "id": "aots4DHNAEWI"
      },
      "execution_count": null,
      "outputs": []
    }
  ]
}