{
  "nbformat": 4,
  "nbformat_minor": 0,
  "metadata": {
    "colab": {
      "name": "EDA.ipynb",
      "provenance": [],
      "collapsed_sections": [],
      "authorship_tag": "ABX9TyOIuEg4MexbV9gJK1Sx+2i2",
      "include_colab_link": true
    },
    "kernelspec": {
      "name": "python3",
      "display_name": "Python 3"
    },
    "language_info": {
      "name": "python"
    },
    "accelerator": "GPU"
  },
  "cells": [
    {
      "cell_type": "markdown",
      "metadata": {
        "id": "view-in-github",
        "colab_type": "text"
      },
      "source": [
        "<a href=\"https://colab.research.google.com/github/aflah02/Easy-Data-Augmentation-Implementation/blob/main/EDA.ipynb\" target=\"_parent\"><img src=\"https://colab.research.google.com/assets/colab-badge.svg\" alt=\"Open In Colab\"/></a>"
      ]
    },
    {
      "cell_type": "code",
      "source": [
        "import nltk\n",
        "from nltk.corpus import wordnet\n",
        "from nltk.corpus import stopwords\n",
        "nltk.download('stopwords')\n",
        "nltk.download('wordnet')\n",
        "nltk.download('omw-1.4')\n",
        "import random\n",
        "import numpy as np\n",
        "import matplotlib.pyplot as plt\n",
        "\n",
        "def plot_graphs(history, metric):\n",
        "  plt.plot(history.history[metric])\n",
        "  plt.plot(history.history['val_'+metric], '')\n",
        "  plt.xlabel(\"Epochs\")\n",
        "  plt.ylabel(metric)\n",
        "  plt.legend([metric, 'val_'+metric])"
      ],
      "metadata": {
        "colab": {
          "base_uri": "https://localhost:8080/"
        },
        "id": "N-LuYDsQtSDk",
        "outputId": "a6d40d3d-40bf-483c-f35a-879ded40161a"
      },
      "execution_count": 98,
      "outputs": [
        {
          "output_type": "stream",
          "name": "stdout",
          "text": [
            "[nltk_data] Downloading package stopwords to /root/nltk_data...\n",
            "[nltk_data]   Package stopwords is already up-to-date!\n",
            "[nltk_data] Downloading package wordnet to /root/nltk_data...\n",
            "[nltk_data]   Package wordnet is already up-to-date!\n",
            "[nltk_data] Downloading package omw-1.4 to /root/nltk_data...\n",
            "[nltk_data]   Package omw-1.4 is already up-to-date!\n"
          ]
        }
      ]
    },
    {
      "cell_type": "code",
      "execution_count": 2,
      "metadata": {
        "id": "r3iSEz0crpcJ"
      },
      "outputs": [],
      "source": [
        "def eda_SR(originalSentence, n):\n",
        "  \"\"\"\n",
        "  Paper Methodology -> Randomly choose n words from the sentence that are not stop words. \n",
        "                       Replace each of these words with one of its synonyms chosen at random.\n",
        "  originalSentence -> The sentence on which EDA is to be applied\n",
        "  n -> The number of words to be chosen for random synonym replacement\n",
        "  \"\"\"\n",
        "  stops = set(stopwords.words('english'))\n",
        "  splitSentence = list(originalSentence.split(\" \"))\n",
        "  splitSentenceCopy = splitSentence.copy()\n",
        "  # Since We Make Changes to The Original Sentence List The Indexes Change and Hence an initial copy proves useful to get values\n",
        "  ls_nonStopWordIndexes = []\n",
        "  for i in range(len(splitSentence)):\n",
        "    if splitSentence[i].lower() not in stops:\n",
        "      ls_nonStopWordIndexes.append(i)\n",
        "  if (n > len(ls_nonStopWordIndexes)):\n",
        "    raise Exception(\"The number of replacements exceeds the number of non stop word words\")\n",
        "  for i in range(n):\n",
        "    indexChosen = random.choice(ls_nonStopWordIndexes)\n",
        "    ls_nonStopWordIndexes.remove(indexChosen)\n",
        "    synonyms = []\n",
        "    originalWord = splitSentenceCopy[indexChosen]\n",
        "    for synset in wordnet.synsets(originalWord):\n",
        "      for lemma in synset.lemmas():\n",
        "        if lemma.name() != originalWord:\n",
        "          synonyms.append(lemma.name())\n",
        "    splitSentence[indexChosen] = random.choice(synonyms).replace('_', ' ')\n",
        "  return \" \".join(splitSentence)"
      ]
    },
    {
      "cell_type": "code",
      "source": [
        "print(eda_SR(\"I love to play football\", 2))"
      ],
      "metadata": {
        "colab": {
          "base_uri": "https://localhost:8080/"
        },
        "id": "9S1DukZer1Am",
        "outputId": "49f743f4-6d5e-4710-d55c-e0e326b4e307"
      },
      "execution_count": 3,
      "outputs": [
        {
          "output_type": "stream",
          "name": "stdout",
          "text": [
            "I bed to run football\n"
          ]
        }
      ]
    },
    {
      "cell_type": "code",
      "source": [
        "def eda_RI(originalSentence, n):\n",
        "  \"\"\"\n",
        "  Paper Methodology -> Find a random synonym of a random word in the sentence that is not a stop word. \n",
        "                       Insert that synonym into a random position in the sentence. Do this n times\n",
        "  originalSentence -> The sentence on which EDA is to be applied\n",
        "  n -> The number of times the process has to be repeated\n",
        "  \"\"\"\n",
        "  stops = set(stopwords.words('english'))\n",
        "  splitSentence = list(originalSentence.split(\" \"))\n",
        "  splitSentenceCopy = splitSentence.copy() \n",
        "  # Since We Make Changes to The Original Sentence List The Indexes Change and Hence an initial copy proves useful to get values\n",
        "  ls_nonStopWordIndexes = []\n",
        "  for i in range(len(splitSentence)):\n",
        "    if splitSentence[i].lower() not in stops:\n",
        "      ls_nonStopWordIndexes.append(i)\n",
        "  if (n > len(ls_nonStopWordIndexes)):\n",
        "    raise Exception(\"The number of replacements exceeds the number of non stop word words\")\n",
        "  WordCount = len(splitSentence)\n",
        "  for i in range(n):\n",
        "    indexChosen = random.choice(ls_nonStopWordIndexes)\n",
        "    ls_nonStopWordIndexes.remove(indexChosen)\n",
        "    synonyms = []\n",
        "    originalWord = splitSentenceCopy[indexChosen]\n",
        "    for synset in wordnet.synsets(originalWord):\n",
        "      for lemma in synset.lemmas():\n",
        "        if lemma.name() != originalWord:\n",
        "          synonyms.append(lemma.name())\n",
        "    splitSentence.insert(random.randint(0,WordCount-1), random.choice(synonyms).replace('_', ' '))\n",
        "  return \" \".join(splitSentence)"
      ],
      "metadata": {
        "id": "ki7HhW0LuK32"
      },
      "execution_count": 4,
      "outputs": []
    },
    {
      "cell_type": "code",
      "source": [
        "print(eda_RI(\"I love to play football\", 2))"
      ],
      "metadata": {
        "colab": {
          "base_uri": "https://localhost:8080/"
        },
        "id": "JqWbchb_uS6-",
        "outputId": "d0f53103-e355-4032-f9e9-3affde89c391"
      },
      "execution_count": 5,
      "outputs": [
        {
          "output_type": "stream",
          "name": "stdout",
          "text": [
            "I love to have it away playact play football\n"
          ]
        }
      ]
    },
    {
      "cell_type": "code",
      "source": [
        "def eda_RS(originalSentence, n):\n",
        "  \"\"\"\n",
        "  Paper Methodology -> Find a random synonym of a random word in the sentence that is not a stop word. \n",
        "                       Insert that synonym into a random position in the sentence. Do this n times\n",
        "  originalSentence -> The sentence on which EDA is to be applied\n",
        "  n -> The number of times the process has to be repeated\n",
        "  \"\"\"\n",
        "  splitSentence = list(originalSentence.split(\" \"))\n",
        "  WordCount = len(splitSentence)\n",
        "  if (WordCount == 1):\n",
        "    raise Exception(\"No Swaps Possible in One Word Sentences\")\n",
        "  for i in range(n):\n",
        "    firstIndex = random.randint(0,WordCount-1)\n",
        "    secondIndex = random.randint(0,WordCount-1)\n",
        "    while (secondIndex == firstIndex):\n",
        "      secondIndex = random.randint(0,WordCount-1)\n",
        "    splitSentence[firstIndex], splitSentence[secondIndex] = splitSentence[secondIndex], splitSentence[firstIndex]\n",
        "  return \" \".join(splitSentence)"
      ],
      "metadata": {
        "id": "vNxMDuWEyGWw"
      },
      "execution_count": 6,
      "outputs": []
    },
    {
      "cell_type": "code",
      "source": [
        "print(eda_RS(\"I love to play football\", 2))"
      ],
      "metadata": {
        "colab": {
          "base_uri": "https://localhost:8080/"
        },
        "id": "ZSJVxXjK1XLD",
        "outputId": "438296e4-da83-463b-a334-e793746c6add"
      },
      "execution_count": 7,
      "outputs": [
        {
          "output_type": "stream",
          "name": "stdout",
          "text": [
            "to love I football play\n"
          ]
        }
      ]
    },
    {
      "cell_type": "code",
      "source": [
        "def eda_RD(originalSentence, p):\n",
        "  \"\"\"\n",
        "  Paper Methodology -> Randomly remove each word in the sentence with probability p.\n",
        "  originalSentence -> The sentence on which EDA is to be applied\n",
        "  p -> Probability of a Word Being Removed\n",
        "  \"\"\"\n",
        "  if (p == 1):\n",
        "      raise Exception(\"Always an Empty String Will Be Returned\") \n",
        "  if (p > 1 or p < 0):\n",
        "    raise Exception(\"Improper Probability Value\")\n",
        "  splitSentence = list(originalSentence.split(\" \"))\n",
        "  lsIndexesRemoved = []\n",
        "  WordCount = len(splitSentence)\n",
        "  if (WordCount == 1):\n",
        "    raise Exception(\"No Swaps Possible in One Word Sentences\")\n",
        "  for i in range(WordCount):\n",
        "    randomDraw = random.random()\n",
        "    if randomDraw <= p:\n",
        "      lsIndexesRemoved.append(i)\n",
        "  lsRetainingWords = []\n",
        "  for i in range(len(splitSentence)):\n",
        "    if i not in lsIndexesRemoved:\n",
        "      lsRetainingWords.append(splitSentence[i])\n",
        "  return \" \".join(lsRetainingWords)"
      ],
      "metadata": {
        "id": "J7Ftz9dw1aU7"
      },
      "execution_count": 8,
      "outputs": []
    },
    {
      "cell_type": "code",
      "source": [
        "print(eda_RD(\"I love to play football\", 0.3))"
      ],
      "metadata": {
        "colab": {
          "base_uri": "https://localhost:8080/"
        },
        "id": "-3BexJBe3GiU",
        "outputId": "a046332c-a814-4c00-a888-9fa011838df6"
      },
      "execution_count": 9,
      "outputs": [
        {
          "output_type": "stream",
          "name": "stdout",
          "text": [
            "I to football\n"
          ]
        }
      ]
    },
    {
      "cell_type": "markdown",
      "source": [
        "### Building Dataset"
      ],
      "metadata": {
        "id": "WJ7lKLxQX1Y7"
      }
    },
    {
      "cell_type": "code",
      "source": [
        "!wget -q https://raw.githubusercontent.com/clairett/pytorch-sentiment-classification/master/data/SST2/train.tsv\n",
        "!wget -q https://raw.githubusercontent.com/clairett/pytorch-sentiment-classification/master/data/SST2/test.tsv\n",
        "!wget -q https://raw.githubusercontent.com/clairett/pytorch-sentiment-classification/master/data/SST2/dev.tsv"
      ],
      "metadata": {
        "id": "CxBtup4GaBfU"
      },
      "execution_count": 10,
      "outputs": []
    },
    {
      "cell_type": "code",
      "source": [
        "!mkdir train"
      ],
      "metadata": {
        "id": "ozpfDrPTwN75"
      },
      "execution_count": 11,
      "outputs": []
    },
    {
      "cell_type": "code",
      "source": [
        "import pandas as pd\n",
        "df_train = pd.read_csv('train.tsv', delimiter = '\\t', names = ['Sentence', 'Label'])\n",
        "# df_train['Split'] = 'Train'\n",
        "df_dev = pd.read_csv('dev.tsv', delimiter = '\\t', names = ['Sentence', 'Label'])\n",
        "# df_dev['Split'] = 'Train' # Since The Original Dataset Does Not Use an Explicit Dev Set It's Considered To Be A Part of Test Set\n",
        "df_test = pd.read_csv('test.tsv', delimiter = '\\t', names = ['Sentence', 'Label'])\n",
        "# df_test['Split'] = 'Test'\n",
        "df_train = pd.concat([df_train, df_dev])\n",
        "df_train = df_train.reset_index(drop=True)\n",
        "df_train = df_train.loc[:, [\"Label\", \"Sentence\"]]\n",
        "df_train.to_csv('datasettrain.csv', index=False)\n",
        "df_test = df_test.loc[:, [\"Label\", \"Sentence\"]]\n",
        "df_test.to_csv('datasettest.csv', index=False)"
      ],
      "metadata": {
        "id": "NKufD3ezZxVL"
      },
      "execution_count": 12,
      "outputs": []
    },
    {
      "cell_type": "code",
      "source": [
        "import tensorflow as tf\n",
        "import tensorflow_datasets as tfds\n",
        "from tensorflow import keras\n",
        "from tensorflow.keras import layers\n",
        "from tensorflow.keras.callbacks import EarlyStopping\n",
        "import pickle"
      ],
      "metadata": {
        "id": "XXWZxsCsgoO2"
      },
      "execution_count": 13,
      "outputs": []
    },
    {
      "cell_type": "code",
      "source": [
        "column_names = ['Label','Sentence']\n",
        "batchsize = 1\n",
        "label = column_names[0]\n",
        "train_dataset = tf.data.experimental.make_csv_dataset(\n",
        "    'datasettrain.csv',\n",
        "    batchsize,\n",
        "    column_names = column_names,\n",
        "    label_name = label,\n",
        "    num_epochs=1\n",
        ")"
      ],
      "metadata": {
        "id": "0J8dkX9H8MJV"
      },
      "execution_count": 14,
      "outputs": []
    },
    {
      "cell_type": "code",
      "source": [
        "column_names = ['Label','Sentence']\n",
        "batchsize = 32\n",
        "label = column_names[0]\n",
        "test_dataset = tf.data.experimental.make_csv_dataset(\n",
        "    'datasettest.csv',\n",
        "    batchsize,\n",
        "    column_names = column_names,\n",
        "    label_name = label,\n",
        "    num_epochs=1\n",
        ")"
      ],
      "metadata": {
        "id": "1QGaBd4J-a3_"
      },
      "execution_count": 15,
      "outputs": []
    },
    {
      "cell_type": "code",
      "source": [
        "print(type(train_dataset))"
      ],
      "metadata": {
        "colab": {
          "base_uri": "https://localhost:8080/"
        },
        "id": "nmpg0pAYJi3g",
        "outputId": "de23759d-8113-459e-ef5f-9e57af8f8c0a"
      },
      "execution_count": 16,
      "outputs": [
        {
          "output_type": "stream",
          "name": "stdout",
          "text": [
            "<class 'tensorflow.python.data.ops.dataset_ops.PrefetchDataset'>\n"
          ]
        }
      ]
    },
    {
      "cell_type": "code",
      "source": [
        "ls_train = []\n",
        "for example, label in train_dataset:\n",
        "  ls_train.append([example['Sentence'][0],label[0]])\n",
        "\n",
        "nparrtrainsentences = np.array([])\n",
        "nparrtrainlabels = np.array([])\n",
        "for i in range(len(ls_train)):\n",
        "  nparrtrainsentences = np.append(nparrtrainsentences, [ls_train[i][0].numpy()])\n",
        "  nparrtrainlabels = np.append(nparrtrainlabels, [ls_train[i][1].numpy()])\n",
        "\n",
        "train_sentences = tf.convert_to_tensor(nparrtrainsentences)\n",
        "train_labels = tf.convert_to_tensor(nparrtrainlabels)\n",
        "\n",
        "train_dataset = tf.data.Dataset.from_tensors((train_sentences,train_labels))"
      ],
      "metadata": {
        "id": "YTBxrkYnEYlq"
      },
      "execution_count": 81,
      "outputs": []
    },
    {
      "cell_type": "code",
      "source": [
        "ls_test = []\n",
        "for example, label in test_dataset:\n",
        "  ls_test.append([example['Sentence'][0],label[0]])\n",
        "\n",
        "nparrtestsentences = np.array([])\n",
        "nparrtestlabels = np.array([])\n",
        "for i in range(len(ls_test)):\n",
        "  nparrtestsentences = np.append(nparrtestsentences, [ls_test[i][0].numpy()])\n",
        "  nparrtestlabels = np.append(nparrtestlabels, [ls_test[i][1].numpy()])\n",
        "\n",
        "test_sentences = tf.convert_to_tensor(nparrtestsentences)\n",
        "test_labels = tf.convert_to_tensor(nparrtestlabels)\n",
        "\n",
        "test_dataset = tf.data.Dataset.from_tensors((test_sentences,test_labels))"
      ],
      "metadata": {
        "id": "aSYI8NIKS203"
      },
      "execution_count": 82,
      "outputs": []
    },
    {
      "cell_type": "code",
      "source": [
        "for example, label in train_dataset.take(1):\n",
        "  print('texts: ', example.numpy()[:3])\n",
        "  print()\n",
        "  print('labels: ', label.numpy()[:3])"
      ],
      "metadata": {
        "colab": {
          "base_uri": "https://localhost:8080/"
        },
        "id": "eo1pq_oiANFx",
        "outputId": "376a87c9-033a-4efb-bafb-f3c93f3c6494"
      },
      "execution_count": 83,
      "outputs": [
        {
          "output_type": "stream",
          "name": "stdout",
          "text": [
            "texts:  [b'the script manages the rare trick of seeming at once both refreshingly different and reassuringly familiar'\n",
            " b'in questioning the election process , payami graphically illustrates the problems of fledgling democracies , but also the strength and sense of freedom the iranian people already possess , with or without access to the ballot box'\n",
            " b'very amusing , not the usual route in a thriller , and the performances are odd and pixilated and sometimes both']\n",
            "\n",
            "labels:  [1. 1. 1.]\n"
          ]
        }
      ]
    },
    {
      "cell_type": "code",
      "source": [
        "VOCAB_SIZE = 5000\n",
        "encoder = tf.keras.layers.TextVectorization(\n",
        "    max_tokens=VOCAB_SIZE)\n",
        "encoder.adapt(train_dataset.map(lambda text, label: text))\n",
        "\n",
        "vocab = np.array(encoder.get_vocabulary())\n",
        "vocab[:20]\n",
        "\n",
        "encoded_example = encoder(example)[:3].numpy()\n",
        "encoded_example\n",
        "\n",
        "for n in range(3):\n",
        "  print(\"Original: \", example[n].numpy())\n",
        "  print(\"Round-trip: \", \" \".join(vocab[encoded_example[n]]))\n",
        "  print()"
      ],
      "metadata": {
        "colab": {
          "base_uri": "https://localhost:8080/"
        },
        "id": "Td-Iboc0BNIU",
        "outputId": "4502ebed-e937-4c6c-bf58-6250f343659c"
      },
      "execution_count": 87,
      "outputs": [
        {
          "output_type": "stream",
          "name": "stdout",
          "text": [
            "Original:  b'the script manages the rare trick of seeming at once both refreshingly different and reassuringly familiar'\n",
            "Round-trip:  the script manages the rare trick of seeming at once both refreshingly different and [UNK] familiar                                \n",
            "\n",
            "Original:  b'in questioning the election process , payami graphically illustrates the problems of fledgling democracies , but also the strength and sense of freedom the iranian people already possess , with or without access to the ballot box'\n",
            "Round-trip:  in [UNK] the [UNK] process payami [UNK] illustrates the problems of [UNK] [UNK] but also the strength and sense of freedom the iranian people already possess with or without [UNK] to the ballot box              \n",
            "\n",
            "Original:  b'very amusing , not the usual route in a thriller , and the performances are odd and pixilated and sometimes both'\n",
            "Round-trip:  very amusing not the usual [UNK] in a thriller and the performances are odd and [UNK] and sometimes both                             \n",
            "\n"
          ]
        }
      ]
    },
    {
      "cell_type": "markdown",
      "source": [
        "### Testing Default Model From [Tensorflow Text Classification by RNN Tutorial](https://www.tensorflow.org/text/tutorials/text_classification_rnn)"
      ],
      "metadata": {
        "id": "uX-7CymNBr8p"
      }
    },
    {
      "cell_type": "code",
      "source": [
        "model = tf.keras.Sequential([\n",
        "    encoder,\n",
        "    tf.keras.layers.Embedding(\n",
        "        input_dim=len(encoder.get_vocabulary()),\n",
        "        output_dim=64,\n",
        "        # Use masking to handle the variable sequence lengths\n",
        "        mask_zero=True),\n",
        "    tf.keras.layers.Bidirectional(tf.keras.layers.LSTM(64)),\n",
        "    tf.keras.layers.Dense(64, activation='relu'),\n",
        "    tf.keras.layers.Dense(1)\n",
        "])"
      ],
      "metadata": {
        "id": "K3iY7vBhB3zG"
      },
      "execution_count": 88,
      "outputs": []
    },
    {
      "cell_type": "code",
      "source": [
        "print([layer.supports_masking for layer in model.layers])"
      ],
      "metadata": {
        "colab": {
          "base_uri": "https://localhost:8080/"
        },
        "id": "E5uy4bSPB86F",
        "outputId": "087421a9-bf69-4b6b-d997-5279d09a188d"
      },
      "execution_count": 89,
      "outputs": [
        {
          "output_type": "stream",
          "name": "stdout",
          "text": [
            "[False, True, True, True, True]\n"
          ]
        }
      ]
    },
    {
      "cell_type": "code",
      "source": [
        "sample_text = ('The movie was cool. The animation and the graphics '\n",
        "               'were out of this world. I would recommend this movie.')\n",
        "predictions = model.predict(np.array([sample_text]))\n",
        "print(predictions[0])"
      ],
      "metadata": {
        "colab": {
          "base_uri": "https://localhost:8080/"
        },
        "id": "I2gF4JE4CtXy",
        "outputId": "8fbdf708-09a3-41eb-a66f-a4b4ee345027"
      },
      "execution_count": 90,
      "outputs": [
        {
          "output_type": "stream",
          "name": "stdout",
          "text": [
            "[0.00464405]\n"
          ]
        }
      ]
    },
    {
      "cell_type": "code",
      "source": [
        "padding = \"the \" * 2000\n",
        "predictions = model.predict(np.array([sample_text, padding]))\n",
        "print(predictions[0])"
      ],
      "metadata": {
        "colab": {
          "base_uri": "https://localhost:8080/"
        },
        "id": "DpfNo4qfCz8q",
        "outputId": "4d4bafb0-9755-44e3-f92d-49f671c82faf"
      },
      "execution_count": 91,
      "outputs": [
        {
          "output_type": "stream",
          "name": "stdout",
          "text": [
            "[0.00464405]\n"
          ]
        }
      ]
    },
    {
      "cell_type": "code",
      "source": [
        "model.compile(loss=tf.keras.losses.BinaryCrossentropy(from_logits=True),\n",
        "              optimizer=tf.keras.optimizers.Adam(1e-4),\n",
        "              metrics=['accuracy'])"
      ],
      "metadata": {
        "id": "m19RCkXkC2fN"
      },
      "execution_count": 92,
      "outputs": []
    },
    {
      "cell_type": "code",
      "source": [
        "history = model.fit(train_dataset, epochs=10,\n",
        "                    validation_data=test_dataset,\n",
        "                    validation_steps=30)"
      ],
      "metadata": {
        "colab": {
          "base_uri": "https://localhost:8080/"
        },
        "id": "LX76HKY6C6_A",
        "outputId": "402136e3-5596-417b-e03a-94593d1c8284"
      },
      "execution_count": 100,
      "outputs": [
        {
          "output_type": "stream",
          "name": "stdout",
          "text": [
            "Epoch 1/10\n",
            "1/1 [==============================] - ETA: 0s - loss: 0.6929 - accuracy: 0.4797WARNING:tensorflow:Your input ran out of data; interrupting training. Make sure that your dataset or generator can generate at least `steps_per_epoch * epochs` batches (in this case, 30 batches). You may need to use the repeat() function when building your dataset.\n",
            "1/1 [==============================] - 1s 751ms/step - loss: 0.6929 - accuracy: 0.4797 - val_loss: 0.6936 - val_accuracy: 0.5439\n",
            "Epoch 2/10\n",
            "1/1 [==============================] - 1s 580ms/step - loss: 0.6928 - accuracy: 0.4797\n",
            "Epoch 3/10\n",
            "1/1 [==============================] - 1s 575ms/step - loss: 0.6927 - accuracy: 0.4797\n",
            "Epoch 4/10\n",
            "1/1 [==============================] - 1s 573ms/step - loss: 0.6926 - accuracy: 0.4797\n",
            "Epoch 5/10\n",
            "1/1 [==============================] - 1s 581ms/step - loss: 0.6925 - accuracy: 0.4797\n",
            "Epoch 6/10\n",
            "1/1 [==============================] - 1s 574ms/step - loss: 0.6924 - accuracy: 0.4797\n",
            "Epoch 7/10\n",
            "1/1 [==============================] - 1s 571ms/step - loss: 0.6923 - accuracy: 0.4797\n",
            "Epoch 8/10\n",
            "1/1 [==============================] - 1s 574ms/step - loss: 0.6922 - accuracy: 0.4797\n",
            "Epoch 9/10\n",
            "1/1 [==============================] - 1s 580ms/step - loss: 0.6920 - accuracy: 0.4797\n",
            "Epoch 10/10\n",
            "1/1 [==============================] - 1s 570ms/step - loss: 0.6919 - accuracy: 0.4797\n"
          ]
        }
      ]
    },
    {
      "cell_type": "code",
      "source": [
        "test_loss, test_acc = model.evaluate(test_dataset)\n",
        "\n",
        "print('Test Loss:', test_loss)\n",
        "print('Test Accuracy:', test_acc)"
      ],
      "metadata": {
        "colab": {
          "base_uri": "https://localhost:8080/"
        },
        "id": "l7OPQP8lDL13",
        "outputId": "d11fc078-4509-4070-fc74-16f7380a575a"
      },
      "execution_count": 94,
      "outputs": [
        {
          "output_type": "stream",
          "name": "stdout",
          "text": [
            "1/1 [==============================] - 0s 30ms/step - loss: 0.6935 - accuracy: 0.5439\n",
            "Test Loss: 0.6935407519340515\n",
            "Test Accuracy: 0.5438596606254578\n"
          ]
        }
      ]
    },
    {
      "cell_type": "code",
      "source": [
        "plt.figure(figsize=(16, 8))\n",
        "plt.subplot(1, 2, 1)\n",
        "plot_graphs(history, 'accuracy')\n",
        "plt.ylim(None, 1)\n",
        "plt.subplot(1, 2, 2)\n",
        "plot_graphs(history, 'loss')\n",
        "plt.ylim(0, None)"
      ],
      "metadata": {
        "colab": {
          "base_uri": "https://localhost:8080/",
          "height": 519
        },
        "id": "cxmeyoIWDOND",
        "outputId": "a2698ff4-5a64-4ebe-9fa0-0e4ce2781f75"
      },
      "execution_count": 99,
      "outputs": [
        {
          "output_type": "execute_result",
          "data": {
            "text/plain": [
              "(0.0, 0.6935196310281754)"
            ]
          },
          "metadata": {},
          "execution_count": 99
        },
        {
          "output_type": "display_data",
          "data": {
            "text/plain": [
              "<Figure size 1152x576 with 2 Axes>"
            ],
            "image/png": "[encoded data removed]"
          },
          "metadata": {
            "needs_background": "light"
          }
        }
      ]
    },
    {
      "cell_type": "markdown",
      "source": [
        "## RNN Model\n",
        "\n",
        "https://www.tensorflow.org/text/tutorials/text_classification_rnn\n",
        "\n",
        "Paper Uses - \n",
        "The architecture used in this paper is as follows: input layer, bi-directional hidden layer with 64 LSTM cells, dropout layer with p=0.5, bi-directional layer of 32 LSTM cells, dropout layer with p=0.5, dense layer of 20 hidden units with ReLU activation, softmax output layer. We initialize this network with random normal weights and train against the categorical crossentropy loss function with the adam optimizer. We use early stopping with a patience of 3 epochs."
      ],
      "metadata": {
        "id": "JPXHX5UV78ui"
      }
    },
    {
      "cell_type": "code",
      "source": [
        "model = tf.keras.Sequential([\n",
        "    encoder,\n",
        "    tf.keras.layers.Embedding(len(encoder.get_vocabulary()), 64, mask_zero=True),\n",
        "    tf.keras.layers.Bidirectional(tf.keras.layers.LSTM(64,  return_sequences=True)),\n",
        "    tf.keras.layers.Dropout(0.5),\n",
        "    tf.keras.layers.Bidirectional(tf.keras.layers.LSTM(32, return_sequences=False)),\n",
        "    tf.keras.layers.Dropout(0.5),\n",
        "    tf.keras.layers.Dense(20, activation='relu'),\n",
        "    tf.keras.layers.Dense(2, kernel_initializer='normal', activation='softmax')\n",
        "])\n",
        "\n",
        "model.compile(loss='categorical_crossentropy', optimizer='adam', metrics=['accuracy'])"
      ],
      "metadata": {
        "id": "bx_aazpwWe1f"
      },
      "execution_count": 103,
      "outputs": []
    },
    {
      "cell_type": "code",
      "source": [
        "# callbacks = [EarlyStopping(monitor='val_loss', patience=3)]\n",
        "\n",
        "# model.fit(\t\n",
        "#       dataset,\n",
        "#       epochs=3, \n",
        "#       callbacks=callbacks,\n",
        "#       batch_size=1024, \n",
        "# )"
      ],
      "metadata": {
        "id": "Bn39t9aqrp6o"
      },
      "execution_count": null,
      "outputs": []
    },
    {
      "cell_type": "code",
      "source": [
        ""
      ],
      "metadata": {
        "id": "qjBusEOGuHK3"
      },
      "execution_count": null,
      "outputs": []
    }
  ]
}