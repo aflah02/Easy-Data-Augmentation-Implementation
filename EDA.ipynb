{
  "nbformat": 4,
  "nbformat_minor": 0,
  "metadata": {
    "colab": {
      "name": "EDA.ipynb",
      "provenance": [],
      "collapsed_sections": [],
      "authorship_tag": "ABX9TyNc/gjWi5IUWPRzkE9g7Zp9",
      "include_colab_link": true
    },
    "kernelspec": {
      "name": "python3",
      "display_name": "Python 3"
    },
    "language_info": {
      "name": "python"
    },
    "accelerator": "GPU"
  },
  "cells": [
    {
      "cell_type": "markdown",
      "metadata": {
        "id": "view-in-github",
        "colab_type": "text"
      },
      "source": [
        "<a href=\"https://colab.research.google.com/github/aflah02/Easy-Data-Augmentation-Implementation/blob/main/EDA.ipynb\" target=\"_parent\"><img src=\"https://colab.research.google.com/assets/colab-badge.svg\" alt=\"Open In Colab\"/></a>"
      ]
    },
    {
      "cell_type": "code",
      "source": [
        "import nltk\n",
        "from nltk.corpus import wordnet\n",
        "from nltk.corpus import stopwords\n",
        "nltk.download('stopwords')\n",
        "nltk.download('wordnet')\n",
        "nltk.download('omw-1.4')\n",
        "import random\n",
        "import numpy as np\n",
        "import matplotlib.pyplot as plt\n",
        "import pandas as pd\n",
        "import tensorflow as tf\n",
        "import tensorflow_datasets as tfds\n",
        "from tensorflow import keras\n",
        "from tensorflow.keras import layers\n",
        "from tensorflow.keras.callbacks import EarlyStopping\n",
        "import pickle\n",
        "\n",
        "def plot_graphs(history, metric):\n",
        "  plt.plot(history.history[metric])\n",
        "  plt.plot(history.history['val_'+metric], '')\n",
        "  plt.xlabel(\"Epochs\")\n",
        "  plt.ylabel(metric)\n",
        "  plt.legend([metric, 'val_'+metric])"
      ],
      "metadata": {
        "colab": {
          "base_uri": "https://localhost:8080/"
        },
        "id": "N-LuYDsQtSDk",
        "outputId": "66d87971-16c1-4674-b851-188b6bebb990"
      },
      "execution_count": 16,
      "outputs": [
        {
          "output_type": "stream",
          "name": "stdout",
          "text": [
            "[nltk_data] Downloading package stopwords to /root/nltk_data...\n",
            "[nltk_data]   Package stopwords is already up-to-date!\n",
            "[nltk_data] Downloading package wordnet to /root/nltk_data...\n",
            "[nltk_data]   Package wordnet is already up-to-date!\n",
            "[nltk_data] Downloading package omw-1.4 to /root/nltk_data...\n",
            "[nltk_data]   Package omw-1.4 is already up-to-date!\n"
          ]
        }
      ]
    },
    {
      "cell_type": "code",
      "execution_count": 34,
      "metadata": {
        "id": "r3iSEz0crpcJ"
      },
      "outputs": [],
      "source": [
        "def eda_SR(originalSentence, n):\n",
        "  \"\"\"\n",
        "  Paper Methodology -> Randomly choose n words from the sentence that are not stop words. \n",
        "                       Replace each of these words with one of its synonyms chosen at random.\n",
        "  originalSentence -> The sentence on which EDA is to be applied\n",
        "  n -> The number of words to be chosen for random synonym replacement\n",
        "  \"\"\"\n",
        "  stops = set(stopwords.words('english'))\n",
        "  splitSentence = list(originalSentence.split(\" \"))\n",
        "  splitSentenceCopy = splitSentence.copy()\n",
        "  # Since We Make Changes to The Original Sentence List The Indexes Change and Hence an initial copy proves useful to get values\n",
        "  ls_nonStopWordIndexes = []\n",
        "  for i in range(len(splitSentence)):\n",
        "    if splitSentence[i].lower() not in stops:\n",
        "      ls_nonStopWordIndexes.append(i)\n",
        "  if (n > len(ls_nonStopWordIndexes)):\n",
        "    raise Exception(\"The number of replacements exceeds the number of non stop word words\")\n",
        "  for i in range(n):\n",
        "    indexChosen = random.choice(ls_nonStopWordIndexes)\n",
        "    ls_nonStopWordIndexes.remove(indexChosen)\n",
        "    synonyms = []\n",
        "    originalWord = splitSentenceCopy[indexChosen]\n",
        "    for synset in wordnet.synsets(originalWord):\n",
        "      for lemma in synset.lemmas():\n",
        "        if lemma.name() != originalWord:\n",
        "          synonyms.append(lemma.name())\n",
        "    if (synonyms == []):\n",
        "      continue\n",
        "    splitSentence[indexChosen] = random.choice(synonyms).replace('_', ' ')\n",
        "  return \" \".join(splitSentence)"
      ]
    },
    {
      "cell_type": "code",
      "source": [
        "print(eda_SR(\"I love to play football\", 2))"
      ],
      "metadata": {
        "colab": {
          "base_uri": "https://localhost:8080/"
        },
        "id": "9S1DukZer1Am",
        "outputId": "b22a1e08-b634-4fb5-f5f9-18b2619fc149"
      },
      "execution_count": 35,
      "outputs": [
        {
          "output_type": "stream",
          "name": "stdout",
          "text": [
            "I fuck to play football game\n"
          ]
        }
      ]
    },
    {
      "cell_type": "code",
      "source": [
        "def eda_RI(originalSentence, n):\n",
        "  \"\"\"\n",
        "  Paper Methodology -> Find a random synonym of a random word in the sentence that is not a stop word. \n",
        "                       Insert that synonym into a random position in the sentence. Do this n times\n",
        "  originalSentence -> The sentence on which EDA is to be applied\n",
        "  n -> The number of times the process has to be repeated\n",
        "  \"\"\"\n",
        "  stops = set(stopwords.words('english'))\n",
        "  splitSentence = list(originalSentence.split(\" \"))\n",
        "  splitSentenceCopy = splitSentence.copy() \n",
        "  # Since We Make Changes to The Original Sentence List The Indexes Change and Hence an initial copy proves useful to get values\n",
        "  ls_nonStopWordIndexes = []\n",
        "  for i in range(len(splitSentence)):\n",
        "    if splitSentence[i].lower() not in stops:\n",
        "      ls_nonStopWordIndexes.append(i)\n",
        "  if (n > len(ls_nonStopWordIndexes)):\n",
        "    raise Exception(\"The number of replacements exceeds the number of non stop word words\")\n",
        "  WordCount = len(splitSentence)\n",
        "  for i in range(n):\n",
        "    indexChosen = random.choice(ls_nonStopWordIndexes)\n",
        "    ls_nonStopWordIndexes.remove(indexChosen)\n",
        "    synonyms = []\n",
        "    originalWord = splitSentenceCopy[indexChosen]\n",
        "    for synset in wordnet.synsets(originalWord):\n",
        "      for lemma in synset.lemmas():\n",
        "        if lemma.name() != originalWord:\n",
        "          synonyms.append(lemma.name())\n",
        "    if (synonyms == []):\n",
        "      continue\n",
        "    splitSentence.insert(random.randint(0,WordCount-1), random.choice(synonyms).replace('_', ' '))\n",
        "  return \" \".join(splitSentence)"
      ],
      "metadata": {
        "id": "ki7HhW0LuK32"
      },
      "execution_count": 31,
      "outputs": []
    },
    {
      "cell_type": "code",
      "source": [
        "print(eda_RI(\"I love to play football\", 2))"
      ],
      "metadata": {
        "colab": {
          "base_uri": "https://localhost:8080/"
        },
        "id": "JqWbchb_uS6-",
        "outputId": "88f2e61e-8034-49b2-ab2c-30eab73f4e7c"
      },
      "execution_count": 5,
      "outputs": [
        {
          "output_type": "stream",
          "name": "stdout",
          "text": [
            "act I have sex love to play football\n"
          ]
        }
      ]
    },
    {
      "cell_type": "code",
      "source": [
        "def eda_RS(originalSentence, n):\n",
        "  \"\"\"\n",
        "  Paper Methodology -> Find a random synonym of a random word in the sentence that is not a stop word. \n",
        "                       Insert that synonym into a random position in the sentence. Do this n times\n",
        "  originalSentence -> The sentence on which EDA is to be applied\n",
        "  n -> The number of times the process has to be repeated\n",
        "  \"\"\"\n",
        "  splitSentence = list(originalSentence.split(\" \"))\n",
        "  WordCount = len(splitSentence)\n",
        "  for i in range(n):\n",
        "    firstIndex = random.randint(0,WordCount-1)\n",
        "    secondIndex = random.randint(0,WordCount-1)\n",
        "    while (secondIndex == firstIndex and WordCount != 1):\n",
        "      secondIndex = random.randint(0,WordCount-1)\n",
        "    splitSentence[firstIndex], splitSentence[secondIndex] = splitSentence[secondIndex], splitSentence[firstIndex]\n",
        "  return \" \".join(splitSentence)"
      ],
      "metadata": {
        "id": "vNxMDuWEyGWw"
      },
      "execution_count": 38,
      "outputs": []
    },
    {
      "cell_type": "code",
      "source": [
        "print(eda_RS(\"I love to play football\", 2))"
      ],
      "metadata": {
        "colab": {
          "base_uri": "https://localhost:8080/"
        },
        "id": "ZSJVxXjK1XLD",
        "outputId": "864717d6-fb73-47cd-d388-e4794f250fff"
      },
      "execution_count": 7,
      "outputs": [
        {
          "output_type": "stream",
          "name": "stdout",
          "text": [
            "football I to play love\n"
          ]
        }
      ]
    },
    {
      "cell_type": "code",
      "source": [
        "def eda_RD(originalSentence, p):\n",
        "  \"\"\"\n",
        "  Paper Methodology -> Randomly remove each word in the sentence with probability p.\n",
        "  originalSentence -> The sentence on which EDA is to be applied\n",
        "  p -> Probability of a Word Being Removed\n",
        "  \"\"\"\n",
        "  og = originalSentence\n",
        "  if (p == 1):\n",
        "      raise Exception(\"Always an Empty String Will Be Returned\") \n",
        "  if (p > 1 or p < 0):\n",
        "    raise Exception(\"Improper Probability Value\")\n",
        "  splitSentence = list(originalSentence.split(\" \"))\n",
        "  lsIndexesRemoved = []\n",
        "  WordCount = len(splitSentence)\n",
        "  for i in range(WordCount):\n",
        "    randomDraw = random.random()\n",
        "    if randomDraw <= p:\n",
        "      lsIndexesRemoved.append(i)\n",
        "  lsRetainingWords = []\n",
        "  for i in range(len(splitSentence)):\n",
        "    if i not in lsIndexesRemoved:\n",
        "      lsRetainingWords.append(splitSentence[i])\n",
        "  if (lsRetainingWords == []):\n",
        "    return og\n",
        "  return \" \".join(lsRetainingWords)"
      ],
      "metadata": {
        "id": "J7Ftz9dw1aU7"
      },
      "execution_count": 40,
      "outputs": []
    },
    {
      "cell_type": "code",
      "source": [
        "print(eda_RD(\"I love to play football\", 0.3))"
      ],
      "metadata": {
        "colab": {
          "base_uri": "https://localhost:8080/"
        },
        "id": "-3BexJBe3GiU",
        "outputId": "ba77915a-7729-490f-b762-5bd927e8bb43"
      },
      "execution_count": 9,
      "outputs": [
        {
          "output_type": "stream",
          "name": "stdout",
          "text": [
            "I love to play football\n"
          ]
        }
      ]
    },
    {
      "cell_type": "markdown",
      "source": [
        "### Building Dataset"
      ],
      "metadata": {
        "id": "WJ7lKLxQX1Y7"
      }
    },
    {
      "cell_type": "code",
      "source": [
        "!wget -q https://raw.githubusercontent.com/clairett/pytorch-sentiment-classification/master/data/SST2/train.tsv\n",
        "!wget -q https://raw.githubusercontent.com/clairett/pytorch-sentiment-classification/master/data/SST2/test.tsv\n",
        "!wget -q https://raw.githubusercontent.com/clairett/pytorch-sentiment-classification/master/data/SST2/dev.tsv"
      ],
      "metadata": {
        "id": "CxBtup4GaBfU"
      },
      "execution_count": 10,
      "outputs": []
    },
    {
      "cell_type": "code",
      "source": [
        "def buildTrainTestDatasets(doAug, AugTechs, alpha, NumberOfTrainingSamplesTouse, n_aug):\n",
        "  df_train = pd.read_csv('train.tsv', delimiter = '\\t', names = ['Sentence', 'Label'])\n",
        "  # df_train['Split'] = 'Train'\n",
        "  df_dev = pd.read_csv('dev.tsv', delimiter = '\\t', names = ['Sentence', 'Label'])\n",
        "  # df_dev['Split'] = 'Train' # Since The Original Dataset Does Not Use an Explicit Dev Set It's Considered To Be A Part of Test Set\n",
        "  df_test = pd.read_csv('test.tsv', delimiter = '\\t', names = ['Sentence', 'Label'])\n",
        "  # df_test['Split'] = 'Test'\n",
        "  df_train = pd.concat([df_train, df_dev])\n",
        "  df_train = df_train.reset_index(drop=True)\n",
        "  df_train = df_train.loc[:, [\"Label\", \"Sentence\"]]\n",
        "  if (NumberOfTrainingSamplesTouse > len(df_train)):\n",
        "    raise Exception(\"More Samples Asked For Than Present\")\n",
        "  df_train = df_train.iloc[:NumberOfTrainingSamplesTouse]\n",
        "  if (doAug):\n",
        "    if (AugTechs == None):\n",
        "      AugTechs = ['SR', 'RI', 'RD', 'RS']\n",
        "    ls_train_labels = df_train['Label'].to_list()\n",
        "    ls_train_sentences = df_train['Sentence'].to_list()\n",
        "    count = len(ls_train_sentences)\n",
        "    for i in range(count):\n",
        "      for iter in range(n_aug):\n",
        "        ls_train_labels.append(ls_train_labels[i])\n",
        "        techniqueChosen = random.choice(AugTechs)\n",
        "        if (techniqueChosen == 'SR'):\n",
        "          ls_train_sentences.append(eda_SR(ls_train_sentences[i], int(len(ls_train_sentences[i])*alpha)))\n",
        "        elif (techniqueChosen == 'RI'):\n",
        "          ls_train_sentences.append(eda_RI(ls_train_sentences[i], int(len(ls_train_sentences[i])*alpha)))\n",
        "        elif (techniqueChosen == 'RS'):\n",
        "          ls_train_sentences.append(eda_RS(ls_train_sentences[i], int(len(ls_train_sentences[i])*alpha)))\n",
        "        elif (techniqueChosen == 'RD'):\n",
        "          ls_train_sentences.append(eda_RD(ls_train_sentences[i], alpha))\n",
        "    s1=pd.Series(ls_train_labels,name='Label')\n",
        "    s2=pd.Series(ls_train_sentences,name='Sentence')\n",
        "    df_train = pd.concat([s1,s2], axis=1, ignore_index=True)\n",
        "\n",
        "  df_train.to_csv('datasettrain.csv', index=False)\n",
        "  df_test = df_test.loc[:, [\"Label\", \"Sentence\"]]\n",
        "  df_test.to_csv('datasettest.csv', index=False)\n",
        "\n",
        "  column_names = ['Label','Sentence']\n",
        "  batchsize = 1\n",
        "  label = column_names[0]\n",
        "  train_dataset = tf.data.experimental.make_csv_dataset(\n",
        "      'datasettrain.csv',\n",
        "      batchsize,\n",
        "      column_names = column_names,\n",
        "      label_name = label,\n",
        "      num_epochs=1\n",
        "  )\n",
        "\n",
        "  column_names = ['Label','Sentence']\n",
        "  batchsize = 1\n",
        "  label = column_names[0]\n",
        "  test_dataset = tf.data.experimental.make_csv_dataset(\n",
        "      'datasettest.csv',\n",
        "      batchsize,\n",
        "      column_names = column_names,\n",
        "      label_name = label,\n",
        "      num_epochs=1\n",
        "  )\n",
        "\n",
        "  ls_train = []\n",
        "  for example, label in train_dataset:\n",
        "    ls_train.append([example['Sentence'][0],label[0]])\n",
        "\n",
        "  nparrtrainsentences = np.array([])\n",
        "  nparrtrainlabels = np.array([])\n",
        "  for i in range(len(ls_train)):\n",
        "    nparrtrainsentences = np.append(nparrtrainsentences, [ls_train[i][0].numpy()])\n",
        "    nparrtrainlabels = np.append(nparrtrainlabels, [ls_train[i][1].numpy()])\n",
        "\n",
        "  train_sentences = tf.convert_to_tensor(nparrtrainsentences)\n",
        "  train_labels = tf.convert_to_tensor(nparrtrainlabels)\n",
        "\n",
        "  train_dataset = tf.data.Dataset.from_tensors((train_sentences,train_labels))\n",
        "\n",
        "  ls_test = []\n",
        "  for example, label in test_dataset:\n",
        "    ls_test.append([example['Sentence'][0],label[0]])\n",
        "\n",
        "  nparrtestsentences = np.array([])\n",
        "  nparrtestlabels = np.array([])\n",
        "  for i in range(len(ls_test)):\n",
        "    nparrtestsentences = np.append(nparrtestsentences, [ls_test[i][0].numpy()])\n",
        "    nparrtestlabels = np.append(nparrtestlabels, [ls_test[i][1].numpy()])\n",
        "\n",
        "  test_sentences = tf.convert_to_tensor(nparrtestsentences)\n",
        "  test_labels = tf.convert_to_tensor(nparrtestlabels)\n",
        "  test_dataset = tf.data.Dataset.from_tensors((test_sentences,test_labels))\n",
        "\n",
        "  return (train_dataset, test_dataset)"
      ],
      "metadata": {
        "id": "8AfPx2LPKRNV"
      },
      "execution_count": 67,
      "outputs": []
    },
    {
      "cell_type": "code",
      "source": [
        "train_aug, test_aug = buildTrainTestDatasets(True, None, 0.05, 500, 16)"
      ],
      "metadata": {
        "id": "aJaj2By5R9yc"
      },
      "execution_count": 68,
      "outputs": []
    },
    {
      "cell_type": "code",
      "source": [
        "train_non_aug, test_non_aug = buildTrainTestDatasets(False, None, 0, 500, 0)"
      ],
      "metadata": {
        "id": "HpcuFauoRonn"
      },
      "execution_count": 69,
      "outputs": []
    },
    {
      "cell_type": "code",
      "source": [
        "for example, label in train_aug.take(1):\n",
        "  print('texts: ', example.numpy()[:3])\n",
        "  print()\n",
        "  print('labels: ', label.numpy()[:3])"
      ],
      "metadata": {
        "colab": {
          "base_uri": "https://localhost:8080/"
        },
        "id": "eo1pq_oiANFx",
        "outputId": "3ddf71f0-b04e-4927-dc12-c5dfd9aa7a38"
      },
      "execution_count": 61,
      "outputs": [
        {
          "output_type": "stream",
          "name": "stdout",
          "text": [
            "texts:  [b\"high crimes carries almost no organic intrigue as a government marine legal mystery , and that 's because the movie serves up all of that , nearly subliminally , as the old hat province of male intrigue\"\n",
            " b\"the most detestable adjustment of a classic text since roland joff and demi Moore 's the scarlet letter\"\n",
            " b'the film bewilder close to the chimps the same way goodall did , with a severe minded patience , regard and tenderness']\n",
            "\n",
            "labels:  [0. 0. 1.]\n"
          ]
        }
      ]
    },
    {
      "cell_type": "markdown",
      "source": [
        "## RNN Model\n",
        "\n",
        "Paper Uses - \n",
        "The architecture used in this paper is as follows: input layer, bi-directional hidden layer with 64 LSTM cells, dropout layer with p=0.5, bi-directional layer of 32 LSTM cells, dropout layer with p=0.5, dense layer of 20 hidden units with ReLU activation, softmax output layer. We initialize this network with random normal weights and train against the categorical crossentropy loss function with the adam optimizer. We use early stopping with a patience of 3 epochs.\n",
        "\n",
        "Reference for Encoder and some Helper Functions: [Tensorflow Text Classification by RNN Tutorial](https://www.tensorflow.org/text/tutorials/text_classification_rnn)\n",
        "\n"
      ],
      "metadata": {
        "id": "JPXHX5UV78ui"
      }
    },
    {
      "cell_type": "code",
      "source": [
        "VOCAB_SIZE = 5000\n",
        "encoder_aug = tf.keras.layers.TextVectorization(\n",
        "    max_tokens=VOCAB_SIZE)\n",
        "encoder_aug.adapt(train_aug.map(lambda text, label: text))\n",
        "\n",
        "vocab_aug = np.array(encoder_aug.get_vocabulary())\n",
        "\n",
        "VOCAB_SIZE = 5000\n",
        "encoder_nonaug = tf.keras.layers.TextVectorization(\n",
        "    max_tokens=VOCAB_SIZE)\n",
        "encoder_nonaug.adapt(train_non_aug.map(lambda text, label: text))\n",
        "\n",
        "vocab_nonaug = np.array(encoder_nonaug.get_vocabulary())\n"
      ],
      "metadata": {
        "id": "Td-Iboc0BNIU"
      },
      "execution_count": 75,
      "outputs": []
    },
    {
      "cell_type": "code",
      "source": [
        "model_aug = tf.keras.Sequential([\n",
        "    encoder_aug,\n",
        "    tf.keras.layers.Embedding(len(encoder_aug.get_vocabulary()), 64, mask_zero=True),\n",
        "    tf.keras.layers.Bidirectional(tf.keras.layers.LSTM(64,  return_sequences=True)),\n",
        "    tf.keras.layers.Dropout(0.5),\n",
        "    tf.keras.layers.Bidirectional(tf.keras.layers.LSTM(32, return_sequences=False)),\n",
        "    tf.keras.layers.Dropout(0.5),\n",
        "    tf.keras.layers.Dense(20, activation='relu'),\n",
        "    tf.keras.layers.Dense(1, kernel_initializer='normal', activation='softmax')\n",
        "])\n",
        "model_aug.compile(loss='categorical_crossentropy', optimizer='adam', metrics=['accuracy'])\n",
        "\n",
        "model_nonaug = tf.keras.Sequential([\n",
        "    encoder_nonaug,\n",
        "    tf.keras.layers.Embedding(len(encoder_nonaug.get_vocabulary()), 64, mask_zero=True),\n",
        "    tf.keras.layers.Bidirectional(tf.keras.layers.LSTM(64,  return_sequences=True)),\n",
        "    tf.keras.layers.Dropout(0.5),\n",
        "    tf.keras.layers.Bidirectional(tf.keras.layers.LSTM(32, return_sequences=False)),\n",
        "    tf.keras.layers.Dropout(0.5),\n",
        "    tf.keras.layers.Dense(20, activation='relu'),\n",
        "    tf.keras.layers.Dense(1, kernel_initializer='normal', activation='softmax')\n",
        "])\n",
        "model_nonaug.compile(loss='categorical_crossentropy', optimizer='adam', metrics=['accuracy'])"
      ],
      "metadata": {
        "id": "bx_aazpwWe1f"
      },
      "execution_count": 76,
      "outputs": []
    },
    {
      "cell_type": "code",
      "source": [
        "callbacks = [EarlyStopping(monitor='val_loss', patience=3)]\n",
        "\n",
        "history_aug = model_aug.fit(\t\n",
        "      train_aug,\n",
        "      epochs=3, \n",
        "      callbacks=callbacks,\n",
        "      validation_data=test_aug,\n",
        "      validation_steps=30\n",
        ")\n",
        "\n",
        "history_non_aug = model_nonaug.fit(\t\n",
        "      train_non_aug,\n",
        "      epochs=3, \n",
        "      callbacks=callbacks,\n",
        "      validation_data=test_non_aug,\n",
        "      validation_steps=30\n",
        ")"
      ],
      "metadata": {
        "id": "Bn39t9aqrp6o",
        "colab": {
          "base_uri": "https://localhost:8080/"
        },
        "outputId": "105b938e-93bb-4fa4-a972-26e169cbe4e6"
      },
      "execution_count": 87,
      "outputs": [
        {
          "output_type": "stream",
          "name": "stdout",
          "text": [
            "Epoch 1/3\n",
            "1/1 [==============================] - ETA: 0s - loss: 0.0000e+00 - accuracy: 0.5260WARNING:tensorflow:Your input ran out of data; interrupting training. Make sure that your dataset or generator can generate at least `steps_per_epoch * epochs` batches (in this case, 30 batches). You may need to use the repeat() function when building your dataset.\n",
            "1/1 [==============================] - 2s 2s/step - loss: 0.0000e+00 - accuracy: 0.5260 - val_loss: 0.0000e+00 - val_accuracy: 0.4992\n",
            "Epoch 2/3\n",
            "1/1 [==============================] - ETA: 0s - loss: 0.0000e+00 - accuracy: 0.5260WARNING:tensorflow:Early stopping conditioned on metric `val_loss` which is not available. Available metrics are: loss,accuracy\n",
            "1/1 [==============================] - 1s 1s/step - loss: 0.0000e+00 - accuracy: 0.5260\n",
            "Epoch 3/3\n",
            "1/1 [==============================] - ETA: 0s - loss: 0.0000e+00 - accuracy: 0.5260WARNING:tensorflow:Early stopping conditioned on metric `val_loss` which is not available. Available metrics are: loss,accuracy\n",
            "1/1 [==============================] - 1s 1s/step - loss: 0.0000e+00 - accuracy: 0.5260\n",
            "Epoch 1/3\n",
            "1/1 [==============================] - ETA: 0s - loss: 0.0000e+00 - accuracy: 0.5260WARNING:tensorflow:Your input ran out of data; interrupting training. Make sure that your dataset or generator can generate at least `steps_per_epoch * epochs` batches (in this case, 30 batches). You may need to use the repeat() function when building your dataset.\n",
            "1/1 [==============================] - 7s 7s/step - loss: 0.0000e+00 - accuracy: 0.5260 - val_loss: 0.0000e+00 - val_accuracy: 0.4992\n",
            "Epoch 2/3\n",
            "1/1 [==============================] - ETA: 0s - loss: 0.0000e+00 - accuracy: 0.5260WARNING:tensorflow:Early stopping conditioned on metric `val_loss` which is not available. Available metrics are: loss,accuracy\n",
            "1/1 [==============================] - 0s 117ms/step - loss: 0.0000e+00 - accuracy: 0.5260\n",
            "Epoch 3/3\n",
            "1/1 [==============================] - ETA: 0s - loss: 0.0000e+00 - accuracy: 0.5260WARNING:tensorflow:Early stopping conditioned on metric `val_loss` which is not available. Available metrics are: loss,accuracy\n",
            "1/1 [==============================] - 0s 117ms/step - loss: 0.0000e+00 - accuracy: 0.5260\n"
          ]
        }
      ]
    },
    {
      "cell_type": "code",
      "source": [
        "test_aug_loss, test_aug_acc = model_aug.evaluate(test_aug)\n",
        "\n",
        "print('Test Augmented Loss:', test_aug_loss)\n",
        "print('Test Augmented Accuracy:', test_aug_acc)\n",
        "\n",
        "test_non_aug_loss, test_non_aug_acc = model_aug.evaluate(test_non_aug)\n",
        "\n",
        "print('Test Non Augmented Loss:', test_non_aug_loss)\n",
        "print('Test Non Augmented Accuracy:', test_non_aug_acc)"
      ],
      "metadata": {
        "id": "qjBusEOGuHK3",
        "colab": {
          "base_uri": "https://localhost:8080/"
        },
        "outputId": "2f37ad17-5268-407a-f027-de0bbc8437a0"
      },
      "execution_count": 88,
      "outputs": [
        {
          "output_type": "stream",
          "name": "stdout",
          "text": [
            "1/1 [==============================] - 0s 118ms/step - loss: 0.0000e+00 - accuracy: 0.4992\n",
            "Test Augmented Loss: 0.0\n",
            "Test Augmented Accuracy: 0.4991762638092041\n",
            "1/1 [==============================] - 0s 112ms/step - loss: 0.0000e+00 - accuracy: 0.4992\n",
            "Test Non Augmented Loss: 0.0\n",
            "Test Non Augmented Accuracy: 0.4991762638092041\n"
          ]
        }
      ]
    },
    {
      "cell_type": "code",
      "source": [
        "## Augmented Data Training\n",
        "plt.figure(figsize=(16, 8))\n",
        "plt.subplot(1, 2, 1)\n",
        "plot_graphs(history_aug, 'accuracy')\n",
        "plt.ylim(None, 1)\n",
        "plt.subplot(1, 2, 2)\n",
        "plot_graphs(history_aug, 'loss')\n",
        "plt.ylim(0, None)"
      ],
      "metadata": {
        "colab": {
          "base_uri": "https://localhost:8080/",
          "height": 518
        },
        "id": "MrDDpT2NF7UJ",
        "outputId": "680be8aa-4753-4552-c806-8177b091517c"
      },
      "execution_count": 93,
      "outputs": [
        {
          "output_type": "execute_result",
          "data": {
            "text/plain": [
              "(0.0, 0.05500000000000001)"
            ]
          },
          "metadata": {},
          "execution_count": 93
        },
        {
          "output_type": "display_data",
          "data": {
            "text/plain": [
              "<Figure size 1152x576 with 2 Axes>"
            ],
            "image/png": "[encoded data removed]"
          },
          "metadata": {
            "needs_background": "light"
          }
        }
      ]
    },
    {
      "cell_type": "code",
      "source": [
        "## Non Augmented Data Training\n",
        "plt.figure(figsize=(16, 8))\n",
        "plt.title(\"Non Augmented Data Training\")\n",
        "plt.subplot(1, 2, 1)\n",
        "plot_graphs(history_non_aug, 'accuracy')\n",
        "plt.ylim(None, 1)\n",
        "plt.subplot(1, 2, 2)\n",
        "plot_graphs(history_non_aug, 'loss')\n",
        "plt.ylim(0, None)"
      ],
      "metadata": {
        "colab": {
          "base_uri": "https://localhost:8080/",
          "height": 518
        },
        "id": "sN_pYcqLY4fu",
        "outputId": "1986188c-a319-48a3-813e-c3a380c83691"
      },
      "execution_count": 94,
      "outputs": [
        {
          "output_type": "execute_result",
          "data": {
            "text/plain": [
              "(0.0, 0.05500000000000001)"
            ]
          },
          "metadata": {},
          "execution_count": 94
        },
        {
          "output_type": "display_data",
          "data": {
            "text/plain": [
              "<Figure size 1152x576 with 2 Axes>"
            ],
            "image/png": "[encoded data removed]"
          },
          "metadata": {
            "needs_background": "light"
          }
        }
      ]
    },
    {
      "cell_type": "code",
      "source": [
        ""
      ],
      "metadata": {
        "id": "dauSb5R2aEUK"
      },
      "execution_count": null,
      "outputs": []
    }
  ]
}